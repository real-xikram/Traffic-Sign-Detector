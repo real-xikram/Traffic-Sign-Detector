{
 "cells": [
  {
   "cell_type": "markdown",
   "metadata": {},
   "source": [
    "# Import modules\n"
   ]
  },
  {
   "cell_type": "code",
   "execution_count": 1,
   "metadata": {},
   "outputs": [
    {
     "name": "stderr",
     "output_type": "stream",
     "text": [
      "/home/xikram/.local/lib/python3.7/site-packages/tensorflow/python/framework/dtypes.py:516: FutureWarning: Passing (type, 1) or '1type' as a synonym of type is deprecated; in a future version of numpy, it will be understood as (type, (1,)) / '(1,)type'.\n",
      "  _np_qint8 = np.dtype([(\"qint8\", np.int8, 1)])\n",
      "/home/xikram/.local/lib/python3.7/site-packages/tensorflow/python/framework/dtypes.py:517: FutureWarning: Passing (type, 1) or '1type' as a synonym of type is deprecated; in a future version of numpy, it will be understood as (type, (1,)) / '(1,)type'.\n",
      "  _np_quint8 = np.dtype([(\"quint8\", np.uint8, 1)])\n",
      "/home/xikram/.local/lib/python3.7/site-packages/tensorflow/python/framework/dtypes.py:518: FutureWarning: Passing (type, 1) or '1type' as a synonym of type is deprecated; in a future version of numpy, it will be understood as (type, (1,)) / '(1,)type'.\n",
      "  _np_qint16 = np.dtype([(\"qint16\", np.int16, 1)])\n",
      "/home/xikram/.local/lib/python3.7/site-packages/tensorflow/python/framework/dtypes.py:519: FutureWarning: Passing (type, 1) or '1type' as a synonym of type is deprecated; in a future version of numpy, it will be understood as (type, (1,)) / '(1,)type'.\n",
      "  _np_quint16 = np.dtype([(\"quint16\", np.uint16, 1)])\n",
      "/home/xikram/.local/lib/python3.7/site-packages/tensorflow/python/framework/dtypes.py:520: FutureWarning: Passing (type, 1) or '1type' as a synonym of type is deprecated; in a future version of numpy, it will be understood as (type, (1,)) / '(1,)type'.\n",
      "  _np_qint32 = np.dtype([(\"qint32\", np.int32, 1)])\n",
      "/home/xikram/.local/lib/python3.7/site-packages/tensorflow/python/framework/dtypes.py:525: FutureWarning: Passing (type, 1) or '1type' as a synonym of type is deprecated; in a future version of numpy, it will be understood as (type, (1,)) / '(1,)type'.\n",
      "  np_resource = np.dtype([(\"resource\", np.ubyte, 1)])\n",
      "Using TensorFlow backend.\n"
     ]
    }
   ],
   "source": [
    "import numpy as np\n",
    "import pandas as pd\n",
    "import matplotlib.pyplot as plt\n",
    "import tensorflow as tf\n",
    "from PIL import Image\n",
    "import os\n",
    "from sklearn.model_selection import train_test_split\n",
    "from keras.utils import to_categorical\n",
    "from keras.models import Sequential\n",
    "from keras.layers import Conv2D , MaxPool2D , Dense , Flatten , Dropout\n"
   ]
  },
  {
   "cell_type": "markdown",
   "metadata": {},
   "source": [
    "Load the data"
   ]
  },
  {
   "cell_type": "code",
   "execution_count": 2,
   "metadata": {},
   "outputs": [],
   "source": [
    "data = []\n",
    "labels = []\n",
    "classes = 43\n",
    "cur_path = os.getcwd()\n",
    "\n",
    "for i in range(classes):\n",
    "    path  = os.path.join(cur_path , 'train' , str(i))\n",
    "    images = os.listdir(path)\n",
    "    \n",
    "    for a in images:\n",
    "        #try:\n",
    "        image = Image.open( path + '/' + a)\n",
    "        image = image.resize((30 , 30))\n",
    "        image = np.array(image)\n",
    "            #sim = Image.fromarray(image)\n",
    "        data.append(image)\n",
    "        labels.append(i)\n",
    "        #except:\n",
    "          #  print('Error loading image')\n",
    "data = np.array(data)\n",
    "labels = np.array(labels)"
   ]
  },
  {
   "cell_type": "code",
   "execution_count": 3,
   "metadata": {},
   "outputs": [
    {
     "name": "stdout",
     "output_type": "stream",
     "text": [
      "(39209, 30, 30, 3) (39209,)\n"
     ]
    }
   ],
   "source": [
    "print(data.shape , labels.shape)"
   ]
  },
  {
   "cell_type": "markdown",
   "metadata": {},
   "source": [
    "Spilt into test and train"
   ]
  },
  {
   "cell_type": "code",
   "execution_count": 4,
   "metadata": {},
   "outputs": [
    {
     "name": "stdout",
     "output_type": "stream",
     "text": [
      "(31367, 30, 30, 3) (7842, 30, 30, 3) (31367,) (7842,)\n"
     ]
    }
   ],
   "source": [
    "x_train , x_test , y_train , y_test = train_test_split(data , labels , test_size = 0.2 , random_state = 42)\n",
    "print(x_train.shape , x_test.shape , y_train.shape , y_test.shape)\n"
   ]
  },
  {
   "cell_type": "markdown",
   "metadata": {},
   "source": [
    "One hot encoding of labels"
   ]
  },
  {
   "cell_type": "code",
   "execution_count": 5,
   "metadata": {},
   "outputs": [],
   "source": [
    "y_train = to_categorical(y_train , 43)\n",
    "y_test = to_categorical(y_test , 43)"
   ]
  },
  {
   "cell_type": "markdown",
   "metadata": {},
   "source": [
    "# Build a model"
   ]
  },
  {
   "cell_type": "markdown",
   "metadata": {},
   "source": [
    " We will be building a CNN model with the following architecture:\n",
    " * 2 Conv2D layer (filter=32, kernel_size=(5,5), activation=”relu”)\n",
    " * MaxPool2D layer ( pool_size=(2,2))\n",
    " * Dropout layer (rate=0.25)\n",
    " * 2 Conv2D layer (filter=64, kernel_size=(3,3), activation=”relu”)\n",
    " * MaxPool2D layer ( pool_size=(2,2))\n",
    " * Dropout layer (rate=0.25)\n",
    " * Flatten layer to squeeze the layers into 1 dimension\n",
    " * Dense Fully connected layer (256 nodes, activation=”relu”)\n",
    " * Dropout layer (rate=0.5)\n",
    " * Dense layer (43 nodes, activation=”softmax”)"
   ]
  },
  {
   "cell_type": "markdown",
   "metadata": {},
   "source": [
    " We complite the model with Adam optimizer which performs well and loss is \"categorical_crossentropy\" because we have multiple classes to categorize"
   ]
  },
  {
   "cell_type": "code",
   "execution_count": 11,
   "metadata": {},
   "outputs": [],
   "source": [
    "model = Sequential([\n",
    "                                Conv2D(filters= 32 , kernel_size=(5,5), activation='relu' , input_shape = x_train.shape[1:]),\n",
    "                                Conv2D(filters= 32 , kernel_size=(5,5), activation='relu' ),\n",
    "                                MaxPool2D(pool_size=(2,2)),\n",
    "                                Dropout(rate= 0.25),\n",
    "                                Conv2D(filters= 64, kernel_size=(3,3) ,activation='relu' ),\n",
    "                                Conv2D(filters= 64 , kernel_size=(3,3), activation='relu' ),\n",
    "                                MaxPool2D(pool_size=(2,2)),\n",
    "                                Dropout(rate=0.25),\n",
    "                                Flatten(),\n",
    "                                Dense(units= 256 , activation= 'relu'),\n",
    "                                Dropout(rate= 0.5),\n",
    "                                Dense(units= 43 , activation='softmax')             \n",
    "                                ])\n",
    "model.compile(loss = 'categorical_crossentropy' , optimizer = 'adam' , metrics = ['acc'])"
   ]
  },
  {
   "cell_type": "markdown",
   "metadata": {},
   "source": [
    "Train and validate the model"
   ]
  },
  {
   "cell_type": "code",
   "execution_count": 12,
   "metadata": {},
   "outputs": [
    {
     "name": "stdout",
     "output_type": "stream",
     "text": [
      "Train on 31367 samples, validate on 7842 samples\n",
      "Epoch 1/15\n",
      "31367/31367 [==============================] - 76s 2ms/step - loss: 2.2254 - acc: 0.4371 - val_loss: 0.7595 - val_acc: 0.7934\n",
      "Epoch 2/15\n",
      "31367/31367 [==============================] - 66s 2ms/step - loss: 0.9459 - acc: 0.7220 - val_loss: 0.4258 - val_acc: 0.8885\n",
      "Epoch 3/15\n",
      "31367/31367 [==============================] - 68s 2ms/step - loss: 0.5838 - acc: 0.8215 - val_loss: 0.2466 - val_acc: 0.9341\n",
      "Epoch 4/15\n",
      "31367/31367 [==============================] - 67s 2ms/step - loss: 0.4202 - acc: 0.8721 - val_loss: 0.1976 - val_acc: 0.9464\n",
      "Epoch 5/15\n",
      "31367/31367 [==============================] - 73s 2ms/step - loss: 0.3363 - acc: 0.8996 - val_loss: 0.1077 - val_acc: 0.9725\n",
      "Epoch 6/15\n",
      "31367/31367 [==============================] - 94s 3ms/step - loss: 0.2811 - acc: 0.9165 - val_loss: 0.0855 - val_acc: 0.9767\n",
      "Epoch 7/15\n",
      "31367/31367 [==============================] - 90s 3ms/step - loss: 0.2456 - acc: 0.9286 - val_loss: 0.1165 - val_acc: 0.9668\n",
      "Epoch 8/15\n",
      "31367/31367 [==============================] - 92s 3ms/step - loss: 0.2336 - acc: 0.9331 - val_loss: 0.0671 - val_acc: 0.9807\n",
      "Epoch 9/15\n",
      "31367/31367 [==============================] - 96s 3ms/step - loss: 0.2069 - acc: 0.9400 - val_loss: 0.0715 - val_acc: 0.9801\n",
      "Epoch 10/15\n",
      "31367/31367 [==============================] - 94s 3ms/step - loss: 0.1888 - acc: 0.9464 - val_loss: 0.0718 - val_acc: 0.9802\n",
      "Epoch 11/15\n",
      "31367/31367 [==============================] - 92s 3ms/step - loss: 0.1859 - acc: 0.9470 - val_loss: 0.0650 - val_acc: 0.9806\n",
      "Epoch 12/15\n",
      "31367/31367 [==============================] - 97s 3ms/step - loss: 0.1850 - acc: 0.9474 - val_loss: 0.0487 - val_acc: 0.9864\n",
      "Epoch 13/15\n",
      "31367/31367 [==============================] - 91s 3ms/step - loss: 0.1786 - acc: 0.9526 - val_loss: 0.0530 - val_acc: 0.9848\n",
      "Epoch 14/15\n",
      "31367/31367 [==============================] - 94s 3ms/step - loss: 0.1857 - acc: 0.9489 - val_loss: 0.0512 - val_acc: 0.9858\n",
      "Epoch 15/15\n",
      "31367/31367 [==============================] - 98s 3ms/step - loss: 0.1717 - acc: 0.9524 - val_loss: 0.0474 - val_acc: 0.9869\n"
     ]
    }
   ],
   "source": [
    "epochs = 15\n",
    "history = model.fit(x_train , y_train , batch_size = 64 , epochs=epochs , validation_data= (x_test , y_test))"
   ]
  },
  {
   "cell_type": "markdown",
   "metadata": {},
   "source": [
    "let us plot our model to assess overfitting"
   ]
  },
  {
   "cell_type": "code",
   "execution_count": 15,
   "metadata": {},
   "outputs": [
    {
     "data": {
      "text/plain": [
       "{'val_loss': [0.7595109068231599,\n",
       "  0.4257780650810635,\n",
       "  0.24657898945973802,\n",
       "  0.19760289531342687,\n",
       "  0.10766645192005475,\n",
       "  0.08545940794056393,\n",
       "  0.11650136195254307,\n",
       "  0.06708083908888066,\n",
       "  0.07151578180919463,\n",
       "  0.07179459481025283,\n",
       "  0.06496029423568297,\n",
       "  0.04871076285635762,\n",
       "  0.053039176771984935,\n",
       "  0.05118187823045683,\n",
       "  0.04740894848546852],\n",
       " 'val_acc': [0.7934200458002467,\n",
       "  0.8885488396121421,\n",
       "  0.9340729404547725,\n",
       "  0.9464422340023368,\n",
       "  0.972456006136089,\n",
       "  0.976664116175252,\n",
       "  0.9668451925681215,\n",
       "  0.9807447078610464,\n",
       "  0.980107115410141,\n",
       "  0.9802346339003221,\n",
       "  0.9806171893708653,\n",
       "  0.9863555215658262,\n",
       "  0.9848252995468408,\n",
       "  0.9858454474682894,\n",
       "  0.9868655953897381],\n",
       " 'loss': [2.2254275655930402,\n",
       "  0.9458743816514009,\n",
       "  0.5838167993887149,\n",
       "  0.42019736243300676,\n",
       "  0.33634235602613655,\n",
       "  0.2811430265946646,\n",
       "  0.24563336865937557,\n",
       "  0.2335604510698532,\n",
       "  0.20687766679712777,\n",
       "  0.1887969251020178,\n",
       "  0.18594257241579285,\n",
       "  0.18497844281457831,\n",
       "  0.17858371741802026,\n",
       "  0.18574341044621365,\n",
       "  0.17166146536000487],\n",
       " 'acc': [0.4370835591564257,\n",
       "  0.7219689482596233,\n",
       "  0.8215321835068576,\n",
       "  0.8720629961443429,\n",
       "  0.8996397487824658,\n",
       "  0.9165046067542195,\n",
       "  0.9285554882519845,\n",
       "  0.9331463002537573,\n",
       "  0.940000637614678,\n",
       "  0.9464405266681545,\n",
       "  0.9469506168903625,\n",
       "  0.9473650651959066,\n",
       "  0.9525934899754394,\n",
       "  0.9488634552236427,\n",
       "  0.9524022061402111]}"
      ]
     },
     "execution_count": 15,
     "metadata": {},
     "output_type": "execute_result"
    }
   ],
   "source": [
    "history.history"
   ]
  },
  {
   "cell_type": "code",
   "execution_count": 16,
   "metadata": {},
   "outputs": [
    {
     "data": {
      "text/plain": [
       "<matplotlib.legend.Legend at 0x7fd91db3c390>"
      ]
     },
     "execution_count": 16,
     "metadata": {},
     "output_type": "execute_result"
    },
    {
     "data": {
      "image/png": "[encoded data removed]",
      "text/plain": [
       "<Figure size 432x288 with 1 Axes>"
      ]
     },
     "metadata": {
      "needs_background": "light"
     },
     "output_type": "display_data"
    }
   ],
   "source": [
    "\n",
    "plt.figure(0)\n",
    "plt.plot(history.history['acc'] , label = 'training accuracy')\n",
    "plt.plot(history.history['val_acc'] , label = 'validation accuracy')\n",
    "plt.title('Accuracy')\n",
    "plt.xlabel('epochs')\n",
    "plt.ylabel('accuracy')\n",
    "plt.legend()\n"
   ]
  },
  {
   "cell_type": "markdown",
   "metadata": {},
   "source": [
    "test the accuracy of the model on test dataset"
   ]
  },
  {
   "cell_type": "code",
   "execution_count": 18,
   "metadata": {},
   "outputs": [
    {
     "data": {
      "text/plain": [
       "<matplotlib.legend.Legend at 0x7fd91da2df50>"
      ]
     },
     "execution_count": 18,
     "metadata": {},
     "output_type": "execute_result"
    },
    {
     "data": {
      "image/png": "[encoded data removed]",
      "text/plain": [
       "<Figure size 432x288 with 1 Axes>"
      ]
     },
     "metadata": {
      "needs_background": "light"
     },
     "output_type": "display_data"
    }
   ],
   "source": [
    "plt.figure(1)\n",
    "plt.plot(history.history['loss'] , label = 'training loss')\n",
    "plt.plot(history.history['val_loss'] , label = 'validation loss')\n",
    "plt.title('Loss')\n",
    "plt.xlabel('epochs')\n",
    "plt.ylabel('loss')\n",
    "plt.legend()\n"
   ]
  },
  {
   "cell_type": "code",
   "execution_count": 21,
   "metadata": {},
   "outputs": [
    {
     "name": "stdout",
     "output_type": "stream",
     "text": [
      "0.936658749010293\n"
     ]
    }
   ],
   "source": [
    "from sklearn.metrics import accuracy_score\n",
    "y_test = pd.read_csv('Test.csv')\n",
    "\n",
    "labels = y_test[\"ClassId\"].values\n",
    "imgs = y_test[\"Path\"].values\n",
    "\n",
    "data = []\n",
    "\n",
    "for img in imgs:\n",
    "    image = Image.open(img)\n",
    "    image = image.resize((30,30) , Image.NEAREST)\n",
    "    data.append(np.array(image))\n",
    "\n",
    "x_test = np.array(data)\n",
    "pred = model.predict_classes(x_test)\n",
    "\n",
    "#accuracy from test data\n",
    "print(accuracy_score(labels , pred))\n",
    "\n",
    "model.save('traffic_classifier.h5')"
   ]
  },
  {
   "cell_type": "code",
   "execution_count": null,
   "metadata": {},
   "outputs": [],
   "source": []
  }
 ],
 "metadata": {
  "kernelspec": {
   "display_name": "Python 3",
   "language": "python",
   "name": "python3"
  },
  "language_info": {
   "codemirror_mode": {
    "name": "ipython",
    "version": 3
   },
   "file_extension": ".py",
   "mimetype": "text/x-python",
   "name": "python",
   "nbconvert_exporter": "python",
   "pygments_lexer": "ipython3",
   "version": "3.7.4"
  }
 },
 "nbformat": 4,
 "nbformat_minor": 4
}
